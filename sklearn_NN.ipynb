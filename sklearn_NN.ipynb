{
 "cells": [
  {
   "cell_type": "code",
   "execution_count": 1,
   "metadata": {},
   "outputs": [],
   "source": [
    "from sklearn.datasets import load_iris\n",
    "from sklearn.model_selection import train_test_split\n",
    "from sklearn.neural_network import MLPClassifier"
   ]
  },
  {
   "cell_type": "code",
   "execution_count": 2,
   "metadata": {},
   "outputs": [],
   "source": [
    "iris = load_iris()"
   ]
  },
  {
   "cell_type": "code",
   "execution_count": 7,
   "metadata": {},
   "outputs": [],
   "source": [
    "X = iris.data\n",
    "y = iris.target"
   ]
  },
  {
   "cell_type": "code",
   "execution_count": 8,
   "metadata": {},
   "outputs": [],
   "source": [
    "X_train, X_test, y_train, y_test = train_test_split(X, y, test_size=0.3, random_state=0)"
   ]
  },
  {
   "cell_type": "code",
   "execution_count": 9,
   "metadata": {},
   "outputs": [],
   "source": [
    "clf = MLPClassifier(solver='sgd', random_state=0, max_iter=10000)"
   ]
  },
  {
   "cell_type": "code",
   "execution_count": 10,
   "metadata": {},
   "outputs": [
    {
     "data": {
      "text/plain": [
       "MLPClassifier(activation='relu', alpha=0.0001, batch_size='auto', beta_1=0.9,\n",
       "       beta_2=0.999, early_stopping=False, epsilon=1e-08,\n",
       "       hidden_layer_sizes=(100,), learning_rate='constant',\n",
       "       learning_rate_init=0.001, max_iter=10000, momentum=0.9,\n",
       "       n_iter_no_change=10, nesterovs_momentum=True, power_t=0.5,\n",
       "       random_state=0, shuffle=True, solver='sgd', tol=0.0001,\n",
       "       validation_fraction=0.1, verbose=False, warm_start=False)"
      ]
     },
     "execution_count": 10,
     "metadata": {},
     "output_type": "execute_result"
    }
   ],
   "source": [
    "clf.fit(X_train, y_train)"
   ]
  },
  {
   "cell_type": "code",
   "execution_count": 11,
   "metadata": {},
   "outputs": [
    {
     "data": {
      "text/plain": [
       "0.9473684210526315"
      ]
     },
     "execution_count": 11,
     "metadata": {},
     "output_type": "execute_result"
    }
   ],
   "source": [
    "clf.score(X_test, y_test)"
   ]
  },
  {
   "cell_type": "markdown",
   "metadata": {},
   "source": [
    "<h1>\n",
    "<span id=\"api\" class=\"fragment\"></span><a href=\"#api\"><i class=\"fa fa-link\"></i></a>API</h1>\n",
    "\n",
    "<p>neural_network.MLPClassifier()がとる引数について。<br>\n",
    "詳しくは公式<br>\n",
    "<a href=\"http://scikit-learn.org/stable/modules/generated/sklearn.neural_network.MLPClassifier.html#sklearn.neural_network.MLPClassifier\" class=\"autolink\" rel=\"nofollow noopener\" target=\"_blank\">http://scikit-learn.org/stable/modules/generated/sklearn.neural_network.MLPClassifier.html#sklearn.neural_network.MLPClassifier</a><br>\n",
    "を見てほしいが、簡潔にまとめる。（右辺はデフォルト値）</p>\n",
    "\n",
    "<div class=\"code-frame\" data-lang=\"python\"><div class=\"highlight\"><pre><span class=\"n\">hidden_layer_sizes</span><span class=\"o\">=</span><span class=\"p\">(</span><span class=\"mi\">100</span><span class=\"p\">,</span> <span class=\"p\">)</span><span class=\"c\">#隠れ層のノード数(多層にもできる)</span>\n",
    "<span class=\"n\">activation</span><span class=\"o\">=</span><span class=\"s\">'relu'</span><span class=\"c\">#活性化関数(identify, logistic, tanh, relu)</span>\n",
    "<span class=\"n\">solver</span><span class=\"o\">=</span><span class=\"s\">'adam'</span><span class=\"c\">#最適化手法(lbfgs(準ニュートン法), sgd, adam)</span>\n",
    "<span class=\"n\">alpha</span><span class=\"o\">=</span><span class=\"mf\">0.0001</span>\n",
    "<span class=\"n\">batch_size</span><span class=\"o\">=</span><span class=\"s\">'auto'</span><span class=\"c\">#バッチサイズ(sgd, adamで適用)</span>\n",
    "<span class=\"n\">learning_rate</span><span class=\"o\">=</span><span class=\"s\">'constant'</span>\n",
    "<span class=\"n\">learning_rate_init</span><span class=\"o\">=</span><span class=\"mf\">0.001</span>\n",
    "<span class=\"n\">power_t</span><span class=\"o\">=</span><span class=\"mf\">0.5</span>\n",
    "<span class=\"n\">max_iter</span><span class=\"o\">=</span><span class=\"mi\">200</span><span class=\"c\">#最大エポック数</span>\n",
    "<span class=\"n\">shuffle</span><span class=\"o\">=</span><span class=\"bp\">True</span><span class=\"c\">#iterationの度にサンプルをシャッフル</span>\n",
    "<span class=\"n\">random_state</span><span class=\"o\">=</span><span class=\"bp\">None</span>\n",
    "<span class=\"n\">tol</span><span class=\"o\">=</span><span class=\"mf\">0.0001</span>\n",
    "<span class=\"n\">verbose</span><span class=\"o\">=</span><span class=\"bp\">False</span>\n",
    "<span class=\"n\">warm_start</span><span class=\"o\">=</span><span class=\"bp\">False</span>\n",
    "<span class=\"n\">momentum</span><span class=\"o\">=</span><span class=\"mf\">0.9</span>\n",
    "<span class=\"n\">nesterovs_momentum</span><span class=\"o\">=</span><span class=\"bp\">True</span>\n",
    "<span class=\"n\">early_stopping</span><span class=\"o\">=</span><span class=\"bp\">False</span>\n",
    "<span class=\"n\">validation_fraction</span><span class=\"o\">=</span><span class=\"mf\">0.1</span>\n",
    "<span class=\"n\">beta_1</span><span class=\"o\">=</span><span class=\"mf\">0.9</span>\n",
    "<span class=\"n\">beta_2</span><span class=\"o\">=</span><span class=\"mf\">0.999</span>\n",
    "<span class=\"n\">epsilon</span><span class=\"o\">=</span><span class=\"mf\">1e-08</span>\n",
    "</pre></div></div>\n",
    "\n",
    "<p>かなり、細かく設定できることがわかる。ニューラルネットワークを使いたい人の大半の人がこれで十分なのではないだろうか。ただしGPGPU等は利用できないので、そういった人は素直にtensorflowなどを使おう。</p>\n"
   ]
  },
  {
   "cell_type": "code",
   "execution_count": null,
   "metadata": {},
   "outputs": [],
   "source": []
  }
 ],
 "metadata": {
  "kernelspec": {
   "display_name": "Python 3",
   "language": "python",
   "name": "python3"
  },
  "language_info": {
   "codemirror_mode": {
    "name": "ipython",
    "version": 3
   },
   "file_extension": ".py",
   "mimetype": "text/x-python",
   "name": "python",
   "nbconvert_exporter": "python",
   "pygments_lexer": "ipython3",
   "version": "3.6.6"
  }
 },
 "nbformat": 4,
 "nbformat_minor": 2
}
